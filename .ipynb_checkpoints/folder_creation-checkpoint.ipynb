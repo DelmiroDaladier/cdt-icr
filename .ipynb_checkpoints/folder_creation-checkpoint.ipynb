{
 "cells": [
  {
   "cell_type": "code",
   "execution_count": 1,
   "id": "f3daaa93",
   "metadata": {},
   "outputs": [],
   "source": [
    "from os import getcwd \n",
    "from django.template.defaultfilters import slugify"
   ]
  },
  {
   "cell_type": "code",
   "execution_count": 2,
   "id": "a0781fa0",
   "metadata": {},
   "outputs": [
    {
     "data": {
      "text/plain": [
       "'a-two-level-item-response-theory-model-to-evaluate-speech-synthesis-and-recognition'"
      ]
     },
     "execution_count": 2,
     "metadata": {},
     "output_type": "execute_result"
    }
   ],
   "source": [
    "slugify(\"A two-level Item Response Theory model to evaluate speech synthesis and recognition\")"
   ]
  },
  {
   "cell_type": "code",
   "execution_count": 4,
   "id": "bf398959",
   "metadata": {},
   "outputs": [],
   "source": [
    "current_path = getcwd()"
   ]
  },
  {
   "cell_type": "code",
   "execution_count": 10,
   "id": "9ea8901b",
   "metadata": {},
   "outputs": [
    {
     "data": {
      "text/plain": [
       "'/home/ck22122/Documents/icr-quarto'"
      ]
     },
     "execution_count": 10,
     "metadata": {},
     "output_type": "execute_result"
    }
   ],
   "source": [
    "'/'.join(current_path.split('/')[:-1]) "
   ]
  },
  {
   "cell_type": "code",
   "execution_count": 8,
   "id": "eece3352",
   "metadata": {},
   "outputs": [
    {
     "data": {
      "text/plain": [
       "['', 'home', 'ck22122', 'Documents', 'icr-quarto', 'icr_backend']"
      ]
     },
     "execution_count": 8,
     "metadata": {},
     "output_type": "execute_result"
    }
   ],
   "source": [
    "current_path.split('/')"
   ]
  },
  {
   "cell_type": "code",
   "execution_count": null,
   "id": "59fcf8dd",
   "metadata": {},
   "outputs": [],
   "source": []
  }
 ],
 "metadata": {
  "kernelspec": {
   "display_name": "Python 3 (ipykernel)",
   "language": "python",
   "name": "python3"
  },
  "language_info": {
   "codemirror_mode": {
    "name": "ipython",
    "version": 3
   },
   "file_extension": ".py",
   "mimetype": "text/x-python",
   "name": "python",
   "nbconvert_exporter": "python",
   "pygments_lexer": "ipython3",
   "version": "3.10.6"
  }
 },
 "nbformat": 4,
 "nbformat_minor": 5
}
