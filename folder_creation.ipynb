{
 "cells": [
  {
   "cell_type": "code",
   "execution_count": 1,
   "id": "f3daaa93",
   "metadata": {},
   "outputs": [],
   "source": [
    "from os import getcwd \n",
    "from django.template.defaultfilters import slugify"
   ]
  },
  {
   "cell_type": "code",
   "execution_count": 14,
   "id": "a0781fa0",
   "metadata": {},
   "outputs": [],
   "source": [
    "folder_name = slugify(\"A two-level Item Response Theory model to evaluate speech synthesis and recognition\")"
   ]
  },
  {
   "cell_type": "code",
   "execution_count": 11,
   "id": "bf398959",
   "metadata": {},
   "outputs": [
    {
     "data": {
      "text/plain": [
       "'/home/ck22122/Documents/icr-quarto/icr_backend'"
      ]
     },
     "execution_count": 11,
     "metadata": {},
     "output_type": "execute_result"
    }
   ],
   "source": [
    "current_path = getcwd()\n",
    "current_path"
   ]
  },
  {
   "cell_type": "code",
   "execution_count": 12,
   "id": "9ea8901b",
   "metadata": {},
   "outputs": [
    {
     "data": {
      "text/plain": [
       "'/home/ck22122/Documents/icr-quarto'"
      ]
     },
     "execution_count": 12,
     "metadata": {},
     "output_type": "execute_result"
    }
   ],
   "source": [
    "current_path = '/'.join(current_path.split('/')[:-1]) \n",
    "current_path "
   ]
  },
  {
   "cell_type": "code",
   "execution_count": 15,
   "id": "5d9c4297",
   "metadata": {},
   "outputs": [
    {
     "data": {
      "text/plain": [
       "'/home/ck22122/Documents/icr-quarto/icr/content/test/icr/content/a-two-level-item-response-theory-model-to-evaluate-speech-synthesis-and-recognition/'"
      ]
     },
     "execution_count": 15,
     "metadata": {},
     "output_type": "execute_result"
    }
   ],
   "source": [
    "current_path = current_path+f'/icr/content/{folder_name}/'\n",
    "current_path"
   ]
  },
  {
   "cell_type": "code",
   "execution_count": null,
   "id": "b5c68b83",
   "metadata": {},
   "outputs": [],
   "source": []
  }
 ],
 "metadata": {
  "kernelspec": {
   "display_name": "Python 3 (ipykernel)",
   "language": "python",
   "name": "python3"
  },
  "language_info": {
   "codemirror_mode": {
    "name": "ipython",
    "version": 3
   },
   "file_extension": ".py",
   "mimetype": "text/x-python",
   "name": "python",
   "nbconvert_exporter": "python",
   "pygments_lexer": "ipython3",
   "version": "3.10.6"
  }
 },
 "nbformat": 4,
 "nbformat_minor": 5
}
